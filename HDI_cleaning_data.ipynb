{
 "cells": [
  {
   "cell_type": "code",
   "execution_count": null,
   "metadata": {},
   "outputs": [],
   "source": [
    "import pandas as pd\n",
    "from pathlib import Path"
   ]
  },
  {
   "cell_type": "code",
   "execution_count": null,
   "metadata": {},
   "outputs": [],
   "source": [
    "# The path to our CSV file\n",
    "HDI_data = Path(\"HDR21-22_Composite_indices_complete_time_series.csv\")\n",
    "\n",
    "# Read our HDI data into pandas\n",
    "HDI_df = pd.read_csv(HDI_data)\n",
    "HDI_df.head()"
   ]
  },
  {
   "cell_type": "code",
   "execution_count": null,
   "metadata": {},
   "outputs": [],
   "source": [
    "# Get a list of all of our columns for easy reference\n",
    "HDI_df.columns"
   ]
  },
  {
   "cell_type": "code",
   "execution_count": null,
   "metadata": {
    "scrolled": true
   },
   "outputs": [],
   "source": [
    "# Extract the columns we are interested in analyzing for the HDI index table\n",
    "\n",
    "HDI_index_df = HDI_df.loc[:, ['iso3', 'country', 'hdicode', \"hdi_2011\",\"hdi_2012\",\\\n",
    "                                        \"hdi_2013\",\"hdi_2014\",\"hdi_2015\", \"hdi_2016\",\"hdi_2017\",\"hdi_2018\",\"hdi_2019\",\"hdi_2020\",\"hdi_2021\"\n",
    "                                        ]]                             \n",
    "\n",
    "#Rename the column headers\n",
    "HDI_titles= HDI_index_df.rename(columns = {\"iso3\": \"id\", 'hdicode':'HDI Code', }, inplace = True)\n",
    "\n",
    "HDI_levels= HDI_index_df.iloc[195:199,]\n",
    "HDI_regions= HDI_index_df.iloc[200:206,]\n",
    "HDI_countries=HDI_index_df.iloc[0:195,]\n",
    "\n",
    "HDI_countries"
   ]
  },
  {
   "cell_type": "code",
   "execution_count": null,
   "metadata": {},
   "outputs": [],
   "source": [
    "#Remove columns that aren't needed in the levels and regions dataframes\n",
    "\n",
    "HDI_levels_cleaned= HDI_levels.drop('HDI Code',axis=1)\n",
    "HDI_levels_cleaned.rename(columns = { 'country':'HDI level', }, inplace = True)\n",
    "\n",
    "HDI_regions_cleaned= HDI_regions.drop('HDI Code', axis=1)\n",
    "HDI_regions_cleaned.rename(columns = { 'country':'region', }, inplace = True)\n",
    "\n",
    "HDI_levels_cleaned"
   ]
  },
  {
   "cell_type": "code",
   "execution_count": null,
   "metadata": {},
   "outputs": [],
   "source": [
    "# Export the HDI tables as CSV files.\n",
    "HDI_countries.to_csv(\"csv tables/HDI_countries.csv\", index=False)\n",
    "HDI_regions_cleaned.to_csv(\"csv tables/HDI_regions.csv\", index=False)\n",
    "HDI_levels_cleaned.to_csv(\"csv tables/HDI_levels.csv\", index=False)"
   ]
  },
  {
   "cell_type": "code",
   "execution_count": null,
   "metadata": {},
   "outputs": [],
   "source": [
    "# Extract the columns we are interested in analyzing for the life expectancy table\n",
    "\n",
    "life_expectancy_df = HDI_df.loc[:,['iso3', 'country', 'hdicode',\"le_2011\",\"le_2012\",\\\n",
    "                                        \"le_2013\",\"le_2014\",\"le_2015\", \"le_2016\",\"le_2017\",\"le_2018\",\"le_2019\",\"le_2020\",\"le_2021\"\n",
    "                                        ]]    \n",
    "\n",
    "#Rename the column headers\n",
    "Life_Expec_titles= life_expectancy_df.rename(columns = {\"iso3\": \"id\", 'hdicode':'HDI Code' }, inplace = True)    \n",
    "\n",
    "le_levels= life_expectancy_df.iloc[195:199,]\n",
    "le_regions= life_expectancy_df.iloc[200:206,]\n",
    "le_countries=life_expectancy_df.iloc[0:195,]\n",
    "                               \n",
    "le_levels"
   ]
  },
  {
   "cell_type": "code",
   "execution_count": null,
   "metadata": {},
   "outputs": [],
   "source": [
    "#Remove columns that aren't needed in the levels and regions dataframes\n",
    "\n",
    "le_levels_cleaned= le_levels.drop('HDI Code',axis=1)\n",
    "le_levels_cleaned.rename(columns = { 'country':'HDI level', }, inplace = True)\n",
    "\n",
    "le_regions_cleaned= le_regions.drop('HDI Code', axis=1)\n",
    "le_regions_cleaned.rename(columns = { 'country':'region', }, inplace = True)\n",
    "\n",
    "le_levels_cleaned"
   ]
  },
  {
   "cell_type": "code",
   "execution_count": null,
   "metadata": {},
   "outputs": [],
   "source": [
    "# Export the life expectancy tables as CSV files.\n",
    "le_countries.to_csv(\"csv tables/le_countries.csv\", index=False)\n",
    "le_regions_cleaned.to_csv(\"csv tables/le_regions.csv\", index=False)\n",
    "le_levels_cleaned.to_csv(\"csv tables/le_levels.csv\", index=False)"
   ]
  },
  {
   "cell_type": "code",
   "execution_count": null,
   "metadata": {},
   "outputs": [],
   "source": [
    "# Extract the columns we are interested in analyzing for the expected number of school years table\n",
    "expected_school_years_df = HDI_df.loc[:,['iso3', 'country', 'hdicode', \"eys_2011\",\"eys_2012\",\\\n",
    "                                        \"eys_2013\",\"eys_2014\",\"eys_2015\", \"eys_2016\",\"eys_2017\",\"eys_2018\",\"eys_2019\",\"eys_2020\",\"eys_2021\"\n",
    "                                        ]]  \n",
    "#Rename the column headers\n",
    "eys_titles= expected_school_years_df.rename(columns = {\"iso3\": \"id\", 'hdicode':'HDI Code' }, inplace = True)    \n",
    "\n",
    "eys_levels= expected_school_years_df.iloc[195:199,]\n",
    "eys_regions= expected_school_years_df.iloc[200:206,]\n",
    "eys_countries=expected_school_years_df.iloc[0:195,]\n",
    "                               \n",
    "eys_countries"
   ]
  },
  {
   "cell_type": "code",
   "execution_count": null,
   "metadata": {},
   "outputs": [],
   "source": [
    "#Remove columns that aren't needed in the levels and regions dataframes\n",
    "\n",
    "eys_levels_cleaned= eys_levels.drop('HDI Code',axis=1)\n",
    "eys_levels_cleaned.rename(columns = { 'country':'HDI level', }, inplace = True)\n",
    "\n",
    "eys_regions_cleaned= eys_regions.drop('HDI Code', axis=1)\n",
    "eys_regions_cleaned.rename(columns = { 'country':'region', }, inplace = True)\n",
    "\n",
    "eys_regions_cleaned"
   ]
  },
  {
   "cell_type": "code",
   "execution_count": null,
   "metadata": {},
   "outputs": [],
   "source": [
    "# Export the life expectancy tables as CSV files.\n",
    "eys_countries.to_csv(\"csv tables/eys_countries.csv\", index=False)\n",
    "eys_regions_cleaned.to_csv(\"csv tables/eys_regions.csv\", index=False)\n",
    "eys_levels_cleaned.to_csv(\"csv tables/eys_levels.csv\", index=False)"
   ]
  },
  {
   "cell_type": "code",
   "execution_count": null,
   "metadata": {},
   "outputs": [],
   "source": [
    "# Extract the columns we are interested in analyzing for the mean number of school years table\n",
    "                                                      \n",
    "mean_school_years_df = HDI_df.loc[:,['iso3', 'country', 'hdicode',\"mys_2011\",\"mys_2012\",\\\n",
    "                                        \"mys_2013\",\"mys_2014\",\"mys_2015\", \"mys_2016\",\"mys_2017\",\"mys_2018\",\"mys_2019\",\"mys_2020\",\"mys_2021\"\n",
    "                                        ]] \n",
    "\n",
    "#Rename the column headers\n",
    "mys_titles= mean_school_years_df.rename(columns = {\"iso3\": \"id\", 'hdicode':'HDI Code' }, inplace = True) \n",
    "\n",
    "mys_levels= mean_school_years_df.iloc[195:199,]\n",
    "mys_regions= mean_school_years_df.iloc[200:206,]\n",
    "mys_countries=mean_school_years_df.iloc[0:195,]\n",
    "                               \n",
    "mys_countries\n"
   ]
  },
  {
   "cell_type": "code",
   "execution_count": null,
   "metadata": {},
   "outputs": [],
   "source": [
    "#Remove columns that aren't needed in the levels and regions dataframes\n",
    "\n",
    "mys_levels_cleaned= mys_levels.drop('HDI Code',axis=1)\n",
    "mys_levels_cleaned.rename(columns = { 'country':'HDI level', }, inplace = True)\n",
    "\n",
    "mys_regions_cleaned= mys_regions.drop('HDI Code', axis=1)\n",
    "mys_regions_cleaned.rename(columns = { 'country':'region', }, inplace = True)\n",
    "\n",
    "mys_regions_cleaned"
   ]
  },
  {
   "cell_type": "code",
   "execution_count": null,
   "metadata": {},
   "outputs": [],
   "source": [
    "# Export the life expectancy tables as CSV files.\n",
    "mys_countries.to_csv(\"csv tables/mys_countries.csv\", index=False)\n",
    "mys_regions_cleaned.to_csv(\"csv tables/mys_regions.csv\", index=False)\n",
    "mys_levels_cleaned.to_csv(\"csv tables/mys_levels.csv\", index=False)"
   ]
  },
  {
   "cell_type": "code",
   "execution_count": null,
   "metadata": {},
   "outputs": [],
   "source": [
    "# Extract the columns we are interested in analyzing for the Gross National Income (Per Capita) table                        \n",
    "                               \n",
    "GNI_df = HDI_df.loc[:,['iso3', 'country', 'hdicode',\"gnipc_2011\",\"gnipc_2012\", \"gnipc_2013\",\"gnipc_2014\",\"gnipc_2015\", \"gnipc_2016\",\\\n",
    "                                        \"gnipc_2017\",\"gnipc_2018\",\"gnipc_2019\",\"gnipc_2020\",\"gnipc_2021\"\n",
    "                                        ]]  \n",
    "#Rename the column headers\n",
    "GNI_titles= GNI_df.rename(columns = {\"iso3\": \"id\", 'hdicode':'HDI Code' }, inplace = True) \n",
    "\n",
    "GNI_levels= GNI_df.iloc[195:199,]\n",
    "GNI_regions= GNI_df.iloc[200:206,]\n",
    "GNI_countries=GNI_df.iloc[0:195,]\n",
    "                               \n",
    "GNI_countries\n"
   ]
  },
  {
   "cell_type": "code",
   "execution_count": null,
   "metadata": {},
   "outputs": [],
   "source": [
    "#Remove columns that aren't needed in the levels and regions dataframes\n",
    "\n",
    "GNI_levels_cleaned= GNI_levels.drop('HDI Code',axis=1)\n",
    "GNI_levels_cleaned.rename(columns = { 'country':'HDI level', }, inplace = True)\n",
    "\n",
    "GNI_regions_cleaned= GNI_regions.drop('HDI Code', axis=1)\n",
    "GNI_regions_cleaned.rename(columns = { 'country':'region', }, inplace = True)\n",
    "\n",
    "GNI_regions_cleaned"
   ]
  },
  {
   "cell_type": "code",
   "execution_count": null,
   "metadata": {},
   "outputs": [],
   "source": [
    "# Export the GNI tables as CSV files.\n",
    "GNI_countries.to_csv(\"csv tables/GNI_countries.csv\", index=False)\n",
    "GNI_regions_cleaned.to_csv(\"csv tables/GNI_regions.csv\", index=False)\n",
    "GNI_levels_cleaned.to_csv(\"csv tables/GNI_levels.csv\", index=False)"
   ]
  },
  {
   "cell_type": "code",
   "execution_count": null,
   "metadata": {},
   "outputs": [],
   "source": [
    "# Extract the columns we are interested in analyzing for the IHDI table for year 2021 only\n",
    "\n",
    "                               \n",
    "IHDI_df = HDI_df.loc[:,['iso3', 'country', 'hdicode', 'coef_ineq_2021','loss_2021','ineq_le_2021','ineq_edu_2021','ineq_inc_2021'\n",
    "                                        ]]  \n",
    "\n",
    "IHDI_Renamed_df = IHDI_df.rename(columns= {\"iso3\": \"id\", \"hdicode\": \"HDI Code\", \"coef_ineq_2021\": \"Coefficient of Human Inequality\",\n",
    "                    'loss_2021':'Overall loss (%)','ineq_le_2021': 'Inequality in life expectancy','ineq_edu_2021': 'Inequality in eduation',\n",
    "                    'ineq_inc_2021':'Inequality in income'\n",
    "                                     })\n",
    "\n",
    "IHDI_levels= IHDI_Renamed_df.iloc[195:199,]\n",
    "IHDI_regions= IHDI_Renamed_df.iloc[200:206,]\n",
    "IHDI_countries=IHDI_Renamed_df.iloc[0:195,]\n",
    "                               \n",
    "IHDI_countries\n"
   ]
  },
  {
   "cell_type": "code",
   "execution_count": null,
   "metadata": {},
   "outputs": [],
   "source": [
    "#Remove columns that aren't needed in the levels and regions dataframes\n",
    "\n",
    "IHDI_levels_cleaned= IHDI_levels.drop('HDI Code',axis=1)\n",
    "IHDI_levels_cleaned.rename(columns = { 'country':'HDI level', }, inplace = True)\n",
    "\n",
    "IHDI_regions_cleaned= IHDI_regions.drop('HDI Code', axis=1)\n",
    "IHDI_regions_cleaned.rename(columns = { 'country':'region', }, inplace = True)\n",
    "\n",
    "IHDI_regions_cleaned"
   ]
  },
  {
   "cell_type": "code",
   "execution_count": null,
   "metadata": {},
   "outputs": [],
   "source": [
    "# Export the IHDI tables as CSV files.\n",
    "IHDI_countries.to_csv(\"csv tables/IHDI_countries.csv\", index=False)\n",
    "IHDI_regions_cleaned.to_csv(\"csv tables/IHDI_regions.csv\", index=False)\n",
    "IHDI_levels_cleaned.to_csv(\"csv tables/IHDI_levels.csv\", index=False)"
   ]
  },
  {
   "cell_type": "code",
   "execution_count": null,
   "metadata": {},
   "outputs": [],
   "source": [
    "# Extract the columns we are interested in analyzing for the GII table for 2021 only   \n",
    "\n",
    "GII_df = HDI_df.loc[:,['iso3', 'country', 'hdicode', 'gii_rank_2021', 'gii_2021', 'mmr_2021', 'abr_2021',\\\n",
    "                    'se_f_2021', 'se_m_2021', 'pr_f_2021','pr_m_2021','lfpr_f_2021','lfpr_m_2021'\n",
    "                                        ]]  \n",
    "\n",
    "GII_Renamed_df= GII_df.rename(columns= {'iso3': \"id\", 'hdicode': 'HDI Code', 'gii_rank_2021': \"GII Rank\", 'gii_2021': 'Gender Inequality Index',\n",
    "                                        'mmr_2021': 'Maternal Mortality Ratio (deaths per 100,000 live births)',\n",
    "                                        'abr_2021': 'Adolescent Birth Rate (births per 1,000 women ages 15-19)',\n",
    "                                        'se_f_2021': 'Population with at least some secondary education, female (% ages 25 and older)',\n",
    "                                        'se_m_2021': 'Population with at least some secondary education, male (% ages 25 and older)',\n",
    "                                        'pr_f_2021': 'Share of seats in parliament, female (% held by women)',\n",
    "                                        'pr_m_2021': 'Share of seats in parliament, male (% held by men)',\n",
    "                                        'lfpr_f_2021': 'Labour force participation rate, female (% ages 15 and older)',\n",
    "                                        'lfpr_m_2021': 'Labour force participation rate, male (% ages 15 and older'})\n",
    "\n",
    "GII_levels= GII_Renamed_df.iloc[195:199,]\n",
    "GII_regions= GII_Renamed_df.iloc[200:206,]\n",
    "GII_countries=GII_Renamed_df.iloc[0:195,]\n",
    "                               \n",
    "GII_countries\n"
   ]
  },
  {
   "cell_type": "code",
   "execution_count": null,
   "metadata": {},
   "outputs": [],
   "source": [
    "#Remove columns that aren't needed in the levels and regions dataframes\n",
    "\n",
    "GII_levels_cleaned= GII_levels.drop('HDI Code',axis=1)\n",
    "GII_levels_cleaned= GII_levels_cleaned.drop('GII Rank',axis=1)\n",
    "GII_levels_cleaned.rename(columns = { 'country':'HDI level', }, inplace = True)\n",
    "\n",
    "GII_regions_cleaned= GII_regions.drop('HDI Code', axis=1)\n",
    "GII_regions_cleaned= GII_regions_cleaned.drop('GII Rank', axis=1)\n",
    "GII_regions_cleaned.rename(columns = { 'country':'region', }, inplace = True)\n",
    "\n",
    "GII_regions_cleaned"
   ]
  },
  {
   "cell_type": "code",
   "execution_count": null,
   "metadata": {},
   "outputs": [],
   "source": [
    "# Export the GII tables as CSV files.\n",
    "GII_countries.to_csv(\"csv tables/GII_countries.csv\", index=False)\n",
    "GII_regions_cleaned.to_csv(\"csv tables/GII_regions.csv\", index=False)\n",
    "GII_levels_cleaned.to_csv(\"csv tables/GII_levels.csv\", index=False)"
   ]
  },
  {
   "attachments": {},
   "cell_type": "markdown",
   "metadata": {},
   "source": []
  },
  {
   "cell_type": "code",
   "execution_count": null,
   "metadata": {},
   "outputs": [],
   "source": [
    "# Extract the columns we are interested in analyzing for the HDI index table\n",
    "\n",
    "IHDI_index_df = HDI_df.loc[:, ['iso3', 'country', 'hdicode', \"ihdi_2011\",\"ihdi_2012\",\\\n",
    "                                        \"ihdi_2013\",\"ihdi_2014\",\"ihdi_2015\", \"ihdi_2016\",\"ihdi_2017\",\"ihdi_2018\",\"ihdi_2019\",\"ihdi_2020\",\"ihdi_2021\"\n",
    "                                        ]]                             \n",
    "\n",
    "#Rename the column headers\n",
    "IHDI_titles= HDI_index_df.rename(columns = {\"iso3\": \"id\" }, inplace = True)\n",
    "\n",
    "IHDI_index_levels= IHDI_index_df.iloc[195:199,]\n",
    "IHDI_index_regions= IHDI_index_df.iloc[200:206,]\n",
    "IHDI_index_countries= IHDI_index_df.iloc[0:195,]\n",
    "\n",
    "IHDI_index_countries"
   ]
  },
  {
   "cell_type": "code",
   "execution_count": null,
   "metadata": {},
   "outputs": [],
   "source": [
    "#Remove columns that aren't needed in the levels and regions dataframes\n",
    "\n",
    "IHDI_level_index_cleaned= IHDI_index_levels.drop('hdicode', axis=1)\n",
    "IHDI_level_index_cleaned.rename(columns = { 'country':'HDI level', }, inplace = True)\n",
    "\n",
    "IHDI_regions_index_cleaned= IHDI_index_regions.drop('hdicode', axis=1)\n",
    "IHDI_regions_index_cleaned.rename(columns = { 'country':'region', }, inplace = True)\n",
    "\n",
    "IHDI_level_index_cleaned"
   ]
  },
  {
   "cell_type": "code",
   "execution_count": null,
   "metadata": {},
   "outputs": [],
   "source": [
    "# Export the IHDI tables as CSV files.\n",
    "IHDI_index_countries.to_csv(\"csv tables/IHDI_index_countries.csv\", index=False)\n",
    "IHDI_regions_cleaned.to_csv(\"csv tables/IHDI_regions_index.csv\", index=False)\n",
    "IHDI_levels_cleaned.to_csv(\"csv tables/IHDI_levels_index.csv\", index=False)"
   ]
  },
  {
   "cell_type": "code",
   "execution_count": null,
   "metadata": {},
   "outputs": [],
   "source": [
    "# Extract the columns we are interested in analyzing for the HDI index table\n",
    "\n",
    "gender_GDI_df = HDI_df.loc[:, ['iso3', 'country', 'gdi_group_2021', 'gdi_2021', 'hdi_f_2021', 'le_f_2021', 'eys_f_2021',\\\n",
    "                                'mys_f_2021', 'gni_pc_f_2021','hdi_m_2021', 'le_m_2021', 'eys_m_2021',\\\n",
    "                                'mys_m_2021', 'gni_pc_m_2021'                                      ]]                             \n",
    "\n",
    "#Rename the column headers\n",
    "Gender_GDI= gender_GDI_df.rename(columns = {\"iso3\": \"id\" ,                                           \n",
    "    'gdi_group_2021': 'GDI Group',\n",
    "\t'gdi_2021' :'Gender Development Index (value)'\t,\n",
    "\t'hdi_f_2021': 'HDI female',\n",
    "    'le_f_2021' : 'Life Expectancy at Birth, female (years)',\n",
    "\t'eys_f_2021' : 'Expected Years of Schooling, female (years)',\n",
    "\t'mys_f_2021': 'Mean Years of Schooling, female (years)',\n",
    "\t'gni_pc_f_2021': 'Gross National Income Per Capita, female (2017 PPP$)',\n",
    "\t'hdi_m_2021' : 'HDI male',\n",
    "\t'le_m_2021': 'Life Expectancy at Birth, male (years)',\n",
    "    'eys_m_2021': 'Expected Years of Schooling, male (years)',\t\n",
    "\t'mys_m_2021': 'Mean Years of Schooling, male (years)',\n",
    "    'gni_pc_m_2021': 'Gross National Income Per Capita, male (2017 PPP$)'\n",
    "                                             }, inplace = True)\n",
    "\n",
    "gender_levels= gender_GDI_df.iloc[195:199,]\n",
    "gender_regions= gender_GDI_df.iloc[200:206,]\n",
    "gender_countries= gender_GDI_df.iloc[0:195,]\n",
    "\n",
    "gender_levels"
   ]
  },
  {
   "cell_type": "code",
   "execution_count": null,
   "metadata": {},
   "outputs": [],
   "source": [
    "#Remove columns that aren't needed in the levels and regions dataframes\n",
    "\n",
    "gender_level_cleaned= gender_levels.drop(\"GDI Group\", axis=1)\n",
    "gender_level_cleaned.rename(columns = { 'country':'HDI level', }, inplace = True)\n",
    "\n",
    "gender_regions_cleaned= gender_regions.drop(\"GDI Group\", axis=1)\n",
    "gender_regions_cleaned.rename(columns = { 'country':'region', }, inplace = True)\n",
    "\n",
    "gender_regions_cleaned"
   ]
  },
  {
   "cell_type": "code",
   "execution_count": null,
   "metadata": {},
   "outputs": [],
   "source": [
    "# Export the IHDI tables as CSV files.\n",
    "gender_countries.to_csv(\"csv tables/gender_countries.csv\", index=False)\n",
    "gender_regions_cleaned.to_csv(\"csv tables/gender_regions.csv\", index=False)\n",
    "gender_level_cleaned.to_csv(\"csv tables/gender_levels.csv\", index=False)"
   ]
  },
  {
   "cell_type": "code",
   "execution_count": null,
   "metadata": {},
   "outputs": [],
   "source": [
    "# Extract the columns we are interested in analyzing for the HDI 2021 table\n",
    "\n",
    "HDI_2021_df = HDI_df.loc[:, ['iso3', 'country','region', 'hdicode', 'hdi_rank_2021', \"hdi_2021\",\"le_2021\",\\\n",
    "                                        \"eys_2021\",\"mys_2021\",\"gnipc_2021\"\n",
    "                                        ]]                             \n",
    "\n",
    "#Rename the column headers\n",
    "HDI_2021_titles= HDI_2021_df.rename(columns = {\"iso3\": \"id\",\n",
    "                                                'hdicode':'HDI Code',\n",
    "                                                'hdi_rank_2021':'HDI Rank',\n",
    "                                                'hdi_2021': 'Human Development Index 2021',\n",
    "                                                'le_2021': 'Life Expectancy at Birth',\n",
    "                                                'eys_2021':'Expected Years of Schooling',\n",
    "                                                'mys_2021': 'Mean Years of Schooling',\n",
    "                                                'gnipc_2021': 'Gross National Income Per Capita'\n",
    "                                                    }, inplace = True)\n",
    "\n",
    "HDI_2021_levels= HDI_2021_df.iloc[195:199,]\n",
    "HDI_2021_regions= HDI_2021_df.iloc[200:206,]\n",
    "HDI_2021_countries= HDI_2021_df.iloc[0:195,]\n",
    "\n",
    "HDI_2021_countries"
   ]
  },
  {
   "cell_type": "code",
   "execution_count": null,
   "metadata": {},
   "outputs": [],
   "source": [
    "#Remove columns that aren't needed in the levels and regions dataframes\n",
    "\n",
    "HDI_levels_2021_cleaned= HDI_2021_levels.drop([\"HDI Rank\",\"region\",\"HDI Code\"], axis=1)\n",
    "HDI_levels_2021_cleaned.rename(columns = { 'country':'HDI level', }, inplace = True)\n",
    "\n",
    "HDI_regions_2021_cleaned= HDI_2021_regions.drop([\"HDI Rank\",\"region\",\"HDI Code\"], axis=1)\n",
    "HDI_regions_2021_cleaned.rename(columns = { 'country':'region', }, inplace = True)\n",
    "\n",
    "HDI_levels_2021_cleaned"
   ]
  },
  {
   "cell_type": "code",
   "execution_count": null,
   "metadata": {},
   "outputs": [],
   "source": [
    "# Export the 2021 HDI tables as CSV files.\n",
    "HDI_2021_countries.to_csv(\"csv tables/HDI_2021_countries.csv\", index=False)\n",
    "HDI_regions_2021_cleaned.to_csv(\"csv tables/HDI_2021_regions.csv\", index=False)\n",
    "HDI_levels_2021_cleaned.to_csv(\"csv tables/HDI_2021_levels.csv\", index=False)"
   ]
  }
 ],
 "metadata": {
  "kernelspec": {
   "display_name": "Python 3 (ipykernel)",
   "language": "python",
   "name": "python3"
  },
  "language_info": {
   "codemirror_mode": {
    "name": "ipython",
    "version": 3
   },
   "file_extension": ".py",
   "mimetype": "text/x-python",
   "name": "python",
   "nbconvert_exporter": "python",
   "pygments_lexer": "ipython3",
   "version": "3.10.11"
  },
  "varInspector": {
   "cols": {
    "lenName": 16,
    "lenType": 16,
    "lenVar": 40
   },
   "kernels_config": {
    "python": {
     "delete_cmd_postfix": "",
     "delete_cmd_prefix": "del ",
     "library": "var_list.py",
     "varRefreshCmd": "print(var_dic_list())"
    },
    "r": {
     "delete_cmd_postfix": ") ",
     "delete_cmd_prefix": "rm(",
     "library": "var_list.r",
     "varRefreshCmd": "cat(var_dic_list()) "
    }
   },
   "types_to_exclude": [
    "module",
    "function",
    "builtin_function_or_method",
    "instance",
    "_Feature"
   ],
   "window_display": false
  }
 },
 "nbformat": 4,
 "nbformat_minor": 2
}
